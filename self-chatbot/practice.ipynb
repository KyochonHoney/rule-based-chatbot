{
 "cells": [
  {
   "cell_type": "code",
   "execution_count": 1,
   "id": "86b9d265",
   "metadata": {},
   "outputs": [
    {
     "name": "stdout",
     "output_type": "stream",
     "text": [
      "Defaulting to user installation because normal site-packages is not writeable\n",
      "Requirement already satisfied: sentence-transformers in c:\\users\\tideflo\\appdata\\roaming\\python\\python312\\site-packages (5.1.0)\n",
      "Requirement already satisfied: transformers<5.0.0,>=4.41.0 in c:\\users\\tideflo\\appdata\\roaming\\python\\python312\\site-packages (from sentence-transformers) (4.55.4)\n",
      "Requirement already satisfied: tqdm in c:\\programdata\\anaconda3\\lib\\site-packages (from sentence-transformers) (4.66.5)\n",
      "Requirement already satisfied: torch>=1.11.0 in c:\\users\\tideflo\\appdata\\roaming\\python\\python312\\site-packages (from sentence-transformers) (2.8.0)\n",
      "Requirement already satisfied: scikit-learn in c:\\programdata\\anaconda3\\lib\\site-packages (from sentence-transformers) (1.5.1)\n",
      "Requirement already satisfied: scipy in c:\\programdata\\anaconda3\\lib\\site-packages (from sentence-transformers) (1.13.1)\n",
      "Requirement already satisfied: huggingface-hub>=0.20.0 in c:\\users\\tideflo\\appdata\\roaming\\python\\python312\\site-packages (from sentence-transformers) (0.34.4)\n",
      "Requirement already satisfied: Pillow in c:\\programdata\\anaconda3\\lib\\site-packages (from sentence-transformers) (10.4.0)\n",
      "Requirement already satisfied: typing_extensions>=4.5.0 in c:\\programdata\\anaconda3\\lib\\site-packages (from sentence-transformers) (4.11.0)\n",
      "Requirement already satisfied: filelock in c:\\programdata\\anaconda3\\lib\\site-packages (from huggingface-hub>=0.20.0->sentence-transformers) (3.13.1)\n",
      "Requirement already satisfied: fsspec>=2023.5.0 in c:\\programdata\\anaconda3\\lib\\site-packages (from huggingface-hub>=0.20.0->sentence-transformers) (2024.6.1)\n",
      "Requirement already satisfied: packaging>=20.9 in c:\\programdata\\anaconda3\\lib\\site-packages (from huggingface-hub>=0.20.0->sentence-transformers) (24.1)\n",
      "Requirement already satisfied: pyyaml>=5.1 in c:\\programdata\\anaconda3\\lib\\site-packages (from huggingface-hub>=0.20.0->sentence-transformers) (6.0.1)\n",
      "Requirement already satisfied: requests in c:\\programdata\\anaconda3\\lib\\site-packages (from huggingface-hub>=0.20.0->sentence-transformers) (2.32.3)\n",
      "Requirement already satisfied: sympy>=1.13.3 in c:\\users\\tideflo\\appdata\\roaming\\python\\python312\\site-packages (from torch>=1.11.0->sentence-transformers) (1.14.0)\n",
      "Requirement already satisfied: networkx in c:\\programdata\\anaconda3\\lib\\site-packages (from torch>=1.11.0->sentence-transformers) (3.3)\n",
      "Requirement already satisfied: jinja2 in c:\\programdata\\anaconda3\\lib\\site-packages (from torch>=1.11.0->sentence-transformers) (3.1.4)\n",
      "Requirement already satisfied: setuptools in c:\\programdata\\anaconda3\\lib\\site-packages (from torch>=1.11.0->sentence-transformers) (75.1.0)\n",
      "Requirement already satisfied: colorama in c:\\programdata\\anaconda3\\lib\\site-packages (from tqdm->sentence-transformers) (0.4.6)\n",
      "Requirement already satisfied: numpy>=1.17 in c:\\programdata\\anaconda3\\lib\\site-packages (from transformers<5.0.0,>=4.41.0->sentence-transformers) (1.26.4)\n",
      "Requirement already satisfied: regex!=2019.12.17 in c:\\programdata\\anaconda3\\lib\\site-packages (from transformers<5.0.0,>=4.41.0->sentence-transformers) (2024.9.11)\n",
      "Requirement already satisfied: tokenizers<0.22,>=0.21 in c:\\users\\tideflo\\appdata\\roaming\\python\\python312\\site-packages (from transformers<5.0.0,>=4.41.0->sentence-transformers) (0.21.4)\n",
      "Requirement already satisfied: safetensors>=0.4.3 in c:\\users\\tideflo\\appdata\\roaming\\python\\python312\\site-packages (from transformers<5.0.0,>=4.41.0->sentence-transformers) (0.6.2)\n",
      "Requirement already satisfied: joblib>=1.2.0 in c:\\programdata\\anaconda3\\lib\\site-packages (from scikit-learn->sentence-transformers) (1.4.2)\n",
      "Requirement already satisfied: threadpoolctl>=3.1.0 in c:\\programdata\\anaconda3\\lib\\site-packages (from scikit-learn->sentence-transformers) (3.5.0)\n",
      "Requirement already satisfied: mpmath<1.4,>=1.1.0 in c:\\programdata\\anaconda3\\lib\\site-packages (from sympy>=1.13.3->torch>=1.11.0->sentence-transformers) (1.3.0)\n",
      "Requirement already satisfied: MarkupSafe>=2.0 in c:\\programdata\\anaconda3\\lib\\site-packages (from jinja2->torch>=1.11.0->sentence-transformers) (2.1.3)\n",
      "Requirement already satisfied: charset-normalizer<4,>=2 in c:\\programdata\\anaconda3\\lib\\site-packages (from requests->huggingface-hub>=0.20.0->sentence-transformers) (3.3.2)\n",
      "Requirement already satisfied: idna<4,>=2.5 in c:\\programdata\\anaconda3\\lib\\site-packages (from requests->huggingface-hub>=0.20.0->sentence-transformers) (3.7)\n",
      "Requirement already satisfied: urllib3<3,>=1.21.1 in c:\\programdata\\anaconda3\\lib\\site-packages (from requests->huggingface-hub>=0.20.0->sentence-transformers) (2.2.3)\n",
      "Requirement already satisfied: certifi>=2017.4.17 in c:\\programdata\\anaconda3\\lib\\site-packages (from requests->huggingface-hub>=0.20.0->sentence-transformers) (2024.8.30)\n",
      "Note: you may need to restart the kernel to use updated packages.\n"
     ]
    }
   ],
   "source": [
    "pip install -U sentence-transformers"
   ]
  },
  {
   "cell_type": "code",
   "execution_count": 13,
   "id": "9fa6e3ea",
   "metadata": {},
   "outputs": [],
   "source": [
    "import pandas as pd\n",
    "from sentence_transformers import SentenceTransformer\n",
    "from sklearn.metrics.pairwise import cosine_similarity"
   ]
  },
  {
   "cell_type": "code",
   "execution_count": 3,
   "id": "80677636",
   "metadata": {},
   "outputs": [
    {
     "data": {
      "application/vnd.jupyter.widget-view+json": {
       "model_id": "526384d59ddd40fdbd9ddc7406f84b1a",
       "version_major": 2,
       "version_minor": 0
      },
      "text/plain": [
       "modules.json:   0%|          | 0.00/229 [00:00<?, ?B/s]"
      ]
     },
     "metadata": {},
     "output_type": "display_data"
    },
    {
     "data": {
      "application/vnd.jupyter.widget-view+json": {
       "model_id": "579f1fb4a8b1438abb177bf42916e3c8",
       "version_major": 2,
       "version_minor": 0
      },
      "text/plain": [
       "config_sentence_transformers.json:   0%|          | 0.00/123 [00:00<?, ?B/s]"
      ]
     },
     "metadata": {},
     "output_type": "display_data"
    },
    {
     "data": {
      "application/vnd.jupyter.widget-view+json": {
       "model_id": "af67714a5e2e47d79b2c71144a49ab4c",
       "version_major": 2,
       "version_minor": 0
      },
      "text/plain": [
       "README.md: 0.00B [00:00, ?B/s]"
      ]
     },
     "metadata": {},
     "output_type": "display_data"
    },
    {
     "data": {
      "application/vnd.jupyter.widget-view+json": {
       "model_id": "cf3ca9045c3446c88077c496c82319f3",
       "version_major": 2,
       "version_minor": 0
      },
      "text/plain": [
       "sentence_bert_config.json:   0%|          | 0.00/53.0 [00:00<?, ?B/s]"
      ]
     },
     "metadata": {},
     "output_type": "display_data"
    },
    {
     "data": {
      "application/vnd.jupyter.widget-view+json": {
       "model_id": "047abad44778419dae4a1965452187cc",
       "version_major": 2,
       "version_minor": 0
      },
      "text/plain": [
       "config.json:   0%|          | 0.00/744 [00:00<?, ?B/s]"
      ]
     },
     "metadata": {},
     "output_type": "display_data"
    },
    {
     "name": "stderr",
     "output_type": "stream",
     "text": [
      "Xet Storage is enabled for this repo, but the 'hf_xet' package is not installed. Falling back to regular HTTP download. For better performance, install the package with: `pip install huggingface_hub[hf_xet]` or `pip install hf_xet`\n"
     ]
    },
    {
     "data": {
      "application/vnd.jupyter.widget-view+json": {
       "model_id": "d4abb91f39c4496eb7f6291bb607b693",
       "version_major": 2,
       "version_minor": 0
      },
      "text/plain": [
       "pytorch_model.bin:   0%|          | 0.00/443M [00:00<?, ?B/s]"
      ]
     },
     "metadata": {},
     "output_type": "display_data"
    },
    {
     "data": {
      "application/vnd.jupyter.widget-view+json": {
       "model_id": "e406b2d866e3499b8bafc4c348c9c2ab",
       "version_major": 2,
       "version_minor": 0
      },
      "text/plain": [
       "tokenizer_config.json:   0%|          | 0.00/585 [00:00<?, ?B/s]"
      ]
     },
     "metadata": {},
     "output_type": "display_data"
    },
    {
     "data": {
      "application/vnd.jupyter.widget-view+json": {
       "model_id": "1dd13f17b700423c9d7d6178bacc0472",
       "version_major": 2,
       "version_minor": 0
      },
      "text/plain": [
       "vocab.txt: 0.00B [00:00, ?B/s]"
      ]
     },
     "metadata": {},
     "output_type": "display_data"
    },
    {
     "data": {
      "application/vnd.jupyter.widget-view+json": {
       "model_id": "d72d618ccd1a4c3abf63f1eba79ae581",
       "version_major": 2,
       "version_minor": 0
      },
      "text/plain": [
       "tokenizer.json: 0.00B [00:00, ?B/s]"
      ]
     },
     "metadata": {},
     "output_type": "display_data"
    },
    {
     "name": "stderr",
     "output_type": "stream",
     "text": [
      "Xet Storage is enabled for this repo, but the 'hf_xet' package is not installed. Falling back to regular HTTP download. For better performance, install the package with: `pip install huggingface_hub[hf_xet]` or `pip install hf_xet`\n"
     ]
    },
    {
     "data": {
      "application/vnd.jupyter.widget-view+json": {
       "model_id": "26800883418846cbbbd850854d29d27e",
       "version_major": 2,
       "version_minor": 0
      },
      "text/plain": [
       "model.safetensors:   0%|          | 0.00/442M [00:00<?, ?B/s]"
      ]
     },
     "metadata": {},
     "output_type": "display_data"
    },
    {
     "data": {
      "application/vnd.jupyter.widget-view+json": {
       "model_id": "418722ff9dc743d78b5b8af89657671a",
       "version_major": 2,
       "version_minor": 0
      },
      "text/plain": [
       "special_tokens_map.json:   0%|          | 0.00/156 [00:00<?, ?B/s]"
      ]
     },
     "metadata": {},
     "output_type": "display_data"
    },
    {
     "data": {
      "application/vnd.jupyter.widget-view+json": {
       "model_id": "e2140466b07d4828af01d157977a8d56",
       "version_major": 2,
       "version_minor": 0
      },
      "text/plain": [
       "config.json:   0%|          | 0.00/190 [00:00<?, ?B/s]"
      ]
     },
     "metadata": {},
     "output_type": "display_data"
    },
    {
     "name": "stdout",
     "output_type": "stream",
     "text": [
      "[[-0.37510446 -0.77338415  0.59277105 ...  0.579235    0.3268346\n",
      "  -0.65089685]\n",
      " [ 0.1354574  -0.14699869 -0.44254982 ...  0.06456838  0.42313072\n",
      "  -0.27908775]]\n"
     ]
    }
   ],
   "source": [
    "model = SentenceTransformer('jhgan/ko-sroberta-multitask')\n",
    "\n",
    "sentences = [\"안녕하세요?\", \"한국어 문장 임베딩을 위한 버트 모델입니ㅏㄷ.\"]\n",
    "embeddings = model.encode(sentences)\n",
    "\n",
    "print(embeddings)"
   ]
  },
  {
   "cell_type": "code",
   "execution_count": 15,
   "id": "f63787a5",
   "metadata": {},
   "outputs": [
    {
     "data": {
      "text/html": [
       "<div>\n",
       "<style scoped>\n",
       "    .dataframe tbody tr th:only-of-type {\n",
       "        vertical-align: middle;\n",
       "    }\n",
       "\n",
       "    .dataframe tbody tr th {\n",
       "        vertical-align: top;\n",
       "    }\n",
       "\n",
       "    .dataframe thead th {\n",
       "        text-align: right;\n",
       "    }\n",
       "</style>\n",
       "<table border=\"1\" class=\"dataframe\">\n",
       "  <thead>\n",
       "    <tr style=\"text-align: right;\">\n",
       "      <th></th>\n",
       "      <th>국사비</th>\n",
       "      <th>검사실명</th>\n",
       "      <th>검사종류</th>\n",
       "      <th>진료과순번</th>\n",
       "      <th>진료과명</th>\n",
       "      <th>접수월</th>\n",
       "      <th>횟수</th>\n",
       "    </tr>\n",
       "  </thead>\n",
       "  <tbody>\n",
       "    <tr>\n",
       "      <th>0</th>\n",
       "      <td>국비</td>\n",
       "      <td>CT검사</td>\n",
       "      <td>Abdomen &amp; Pelvis</td>\n",
       "      <td>1.0</td>\n",
       "      <td>내과</td>\n",
       "      <td>1월</td>\n",
       "      <td>5</td>\n",
       "    </tr>\n",
       "    <tr>\n",
       "      <th>1</th>\n",
       "      <td>국비</td>\n",
       "      <td>골밀도</td>\n",
       "      <td>골밀도</td>\n",
       "      <td>1.0</td>\n",
       "      <td>내과</td>\n",
       "      <td>1월</td>\n",
       "      <td>2</td>\n",
       "    </tr>\n",
       "    <tr>\n",
       "      <th>2</th>\n",
       "      <td>국비</td>\n",
       "      <td>일반검사</td>\n",
       "      <td>Abdomen</td>\n",
       "      <td>1.0</td>\n",
       "      <td>내과</td>\n",
       "      <td>1월</td>\n",
       "      <td>7</td>\n",
       "    </tr>\n",
       "    <tr>\n",
       "      <th>3</th>\n",
       "      <td>국비</td>\n",
       "      <td>일반검사</td>\n",
       "      <td>Chest</td>\n",
       "      <td>1.0</td>\n",
       "      <td>내과</td>\n",
       "      <td>1월</td>\n",
       "      <td>56</td>\n",
       "    </tr>\n",
       "    <tr>\n",
       "      <th>4</th>\n",
       "      <td>국비</td>\n",
       "      <td>초음파검사</td>\n",
       "      <td>Abdomen</td>\n",
       "      <td>1.0</td>\n",
       "      <td>내과</td>\n",
       "      <td>1월</td>\n",
       "      <td>5</td>\n",
       "    </tr>\n",
       "  </tbody>\n",
       "</table>\n",
       "</div>"
      ],
      "text/plain": [
       "  국사비   검사실명              검사종류  진료과순번 진료과명 접수월  횟수\n",
       "0  국비   CT검사  Abdomen & Pelvis    1.0   내과  1월   5\n",
       "1  국비    골밀도               골밀도    1.0   내과  1월   2\n",
       "2  국비   일반검사           Abdomen    1.0   내과  1월   7\n",
       "3  국비   일반검사             Chest    1.0   내과  1월  56\n",
       "4  국비  초음파검사           Abdomen    1.0   내과  1월   5"
      ]
     },
     "execution_count": 15,
     "metadata": {},
     "output_type": "execute_result"
    }
   ],
   "source": [
    "df = pd.read_csv('./한국보훈복지의료공단_영상의학과 진료과별 검사건수_인천보훈병원_20241231.csv', encoding='cp949')\n",
    "\n",
    "df.head()"
   ]
  },
  {
   "cell_type": "code",
   "execution_count": 17,
   "id": "bd21a33c",
   "metadata": {},
   "outputs": [
    {
     "data": {
      "text/plain": [
       "array([-2.36973137e-01, -2.47198045e-01,  2.04607219e-01, -2.55499363e-01,\n",
       "       -6.59533590e-03,  5.48928082e-02,  5.97804487e-01,  1.53884575e-01,\n",
       "        1.18261546e-01, -6.57222867e-01, -3.23055655e-01,  3.21121626e-02,\n",
       "        1.06537029e-01,  6.86979294e-01, -5.85381508e-01,  2.38195825e-02,\n",
       "        2.49101706e-02,  8.28682899e-01, -3.54388595e-01, -6.89755082e-01,\n",
       "       -1.03222418e+00, -5.64435959e-01,  4.70894761e-02,  3.33651662e-01,\n",
       "        2.47672200e-01, -5.40209353e-01, -3.47728759e-01,  3.03644806e-01,\n",
       "        8.87521267e-01,  6.63313642e-03, -5.83004057e-01,  4.89783227e-01,\n",
       "       -8.08522224e-01,  5.03520608e-01,  5.92464209e-02,  7.81497955e-02,\n",
       "       -2.98632026e-01, -3.43662500e-03, -8.71762753e-01,  1.31145865e-02,\n",
       "       -1.63329780e-01,  5.60557485e-01,  8.33790302e-02,  7.60031581e-01,\n",
       "        4.71734628e-03,  5.11225045e-01, -7.72835165e-02,  3.35903198e-01,\n",
       "       -1.06040096e+00, -3.72101367e-01, -8.64117593e-02, -8.59832644e-01,\n",
       "        1.74368948e-01,  7.60951102e-01, -5.01721978e-01,  5.95569313e-01,\n",
       "        3.02949417e-02, -2.78722227e-01, -1.38644353e-01,  3.14638883e-01,\n",
       "        3.76046896e-02,  5.43948933e-02, -9.87343788e-02, -2.58297205e-01,\n",
       "       -5.78825653e-01, -3.57794404e-01,  4.53334935e-02, -5.23418844e-01,\n",
       "       -2.28696465e-01, -4.69063103e-01,  4.34670031e-01, -7.21999407e-02,\n",
       "       -4.55808818e-01, -4.05990154e-01,  3.05622637e-01,  1.58438966e-01,\n",
       "        3.81924324e-02, -2.38111079e-01,  1.81913197e-01, -1.82987899e-02,\n",
       "        1.01816207e-01, -4.04825985e-01, -5.74301362e-01, -5.13912320e-01,\n",
       "       -2.49906436e-01, -1.24084735e+00,  7.06656754e-01, -7.09069312e-01,\n",
       "       -2.93733299e-01, -2.54301876e-01,  7.21801668e-02, -3.26335162e-01,\n",
       "        4.09273833e-01, -1.17451370e-01,  1.42142922e-01, -4.01229054e-01,\n",
       "       -5.66810481e-02, -3.60680819e-01,  2.72714734e-01,  4.47768904e-02,\n",
       "        3.64350021e-01, -2.41623521e-01, -6.64225340e-01,  6.46194875e-01,\n",
       "        8.03172961e-03,  1.07059836e-01, -5.91568828e-01,  2.19088554e-01,\n",
       "        5.29456615e-01,  6.55048192e-01,  8.86689544e-01, -7.73082674e-01,\n",
       "       -1.42021105e-01,  3.82544309e-01,  8.53986070e-02,  1.37672320e-01,\n",
       "        2.73609400e-01, -2.40401596e-01, -1.10964382e+00, -3.35149616e-01,\n",
       "       -2.52574235e-02, -1.20160833e-01,  5.94843999e-02,  1.35391191e-01,\n",
       "       -8.86218369e-01,  8.72893214e-01,  5.79837799e-01,  6.56380951e-02,\n",
       "        2.60088980e-01, -2.42933303e-01, -4.05554235e-01, -8.70902896e-01,\n",
       "       -3.63186076e-02, -7.67949581e-01, -6.18886173e-01, -2.96548605e-01,\n",
       "       -7.13477060e-02,  1.72414571e-01, -1.55912682e-01,  5.14142513e-01,\n",
       "        2.09606498e-01, -6.29873395e-01,  5.31239092e-01,  2.03133970e-01,\n",
       "       -5.53511500e-01,  3.36973518e-01,  1.34975269e-01, -2.98954815e-01,\n",
       "       -4.74007249e-01, -5.47971904e-01,  7.31691048e-02,  1.52802840e-01,\n",
       "       -6.48844063e-01, -4.55535710e-01, -9.42021430e-01, -8.51193726e-01,\n",
       "        5.14184117e-01, -1.44005418e-01,  1.99100941e-01, -3.49550098e-01,\n",
       "       -3.93726110e-01,  2.20544323e-01,  2.52928704e-01, -3.26860189e-01,\n",
       "       -1.87061489e-01, -1.46282520e-02,  5.48732460e-01,  2.11733118e-01,\n",
       "        1.06664062e-01, -5.07184327e-01,  4.39039201e-01,  9.58542526e-02,\n",
       "        3.04207385e-01,  3.01443249e-01, -2.53023773e-01,  5.03965378e-01,\n",
       "        1.41698673e-01, -6.19437337e-01, -3.57624352e-01, -1.30073279e-01,\n",
       "        2.44107157e-01,  6.18264675e-01, -8.80412877e-01,  1.16936930e-01,\n",
       "        5.61510026e-01, -1.14553131e-01,  3.19366530e-02, -1.75968558e-01,\n",
       "        5.29693842e-01, -3.69898558e-01,  2.35625744e-01,  3.79844189e-01,\n",
       "        1.31938398e-01,  3.40078443e-01, -2.38093697e-02,  1.44805148e-01,\n",
       "       -3.45772922e-01, -2.65443563e-01, -2.48102978e-01, -1.43490937e-02,\n",
       "        2.28820667e-02,  2.98692226e-01,  8.16237867e-01,  8.24029803e-01,\n",
       "        5.22018790e-01,  1.71586156e-01, -3.05748761e-01, -4.86807466e-01,\n",
       "       -6.15706965e-02, -4.48615193e-01, -6.16693079e-01, -4.32309434e-02,\n",
       "        9.94417146e-02, -6.45369351e-01,  3.38062286e-01, -5.00225008e-01,\n",
       "        3.36213797e-01,  1.83897287e-01,  1.82476528e-02,  2.85496384e-01,\n",
       "        4.10014302e-01,  1.17459476e-01,  9.93740320e-01, -5.13091683e-01,\n",
       "        9.60255489e-02, -6.91685915e-01,  8.13879296e-02, -5.01357988e-02,\n",
       "        6.40566051e-01,  1.95723921e-01,  1.93587944e-01,  1.46413609e-01,\n",
       "        4.02911007e-03, -7.90570974e-02, -5.21086514e-01,  9.33762342e-02,\n",
       "       -6.21440411e-01,  4.10231233e-01, -1.93233877e-01, -4.45997417e-01,\n",
       "       -6.72832251e-01,  6.78070486e-02,  1.43473804e-01, -2.79210240e-01,\n",
       "        5.97693264e-01,  4.58338618e-01,  1.31588653e-01, -1.02693295e+00,\n",
       "       -2.20678747e-01,  1.70838088e-01, -2.21367300e-01,  7.17774630e-01,\n",
       "        1.76572293e-01, -3.78238559e-01, -1.64222792e-01, -2.72882104e-01,\n",
       "       -1.88855812e-01, -9.59863141e-02, -2.55219012e-01, -4.22764301e-01,\n",
       "       -5.24846017e-01, -9.10256878e-02,  1.98050529e-01, -4.11001116e-01,\n",
       "        5.86341500e-01,  3.14364910e-01, -1.08069871e-02, -3.69678795e-01,\n",
       "        5.69730215e-02, -1.51623681e-01, -4.62343037e-01,  4.17304218e-01,\n",
       "        2.19567180e-01,  2.29006574e-01, -9.00944829e-01,  6.81510210e-01,\n",
       "       -6.28799617e-01,  1.03851497e+00, -4.40074831e-01,  9.92132425e-02,\n",
       "       -2.33600110e-01,  2.88096726e-01, -5.20384371e-01, -6.90091789e-01,\n",
       "        1.29546970e-02,  4.01465923e-01, -3.39116454e-01,  2.65046835e-01,\n",
       "       -5.49193472e-02, -2.17389375e-01,  1.32605672e-01,  3.76958370e-01,\n",
       "       -4.14469898e-01, -1.15470815e+00,  1.09103717e-01,  2.08133936e-01,\n",
       "        9.77361053e-02,  1.89273804e-01,  2.50748873e-01, -1.86961174e-01,\n",
       "        1.67993367e-01,  4.87612009e-01,  1.53202727e-01,  3.13146055e-01,\n",
       "        1.35934055e-01, -1.21365674e-01, -4.10857409e-01,  6.42208010e-02,\n",
       "        3.28419715e-01,  5.70301533e-01, -1.84575021e-01, -1.88301891e-01,\n",
       "        5.35038829e-01, -2.85403073e-01,  6.08715490e-02, -3.80962998e-01,\n",
       "        6.22860670e-01, -3.07664424e-02,  1.85062289e-01,  1.47666454e-01,\n",
       "        1.56087324e-01,  2.43891552e-02,  2.05030590e-01,  3.20105374e-01,\n",
       "        3.55009615e-01,  5.85564300e-02, -2.79540896e-01,  1.00656852e-01,\n",
       "       -3.27514827e-01, -4.51959938e-01, -4.55275238e-01, -6.66481316e-01,\n",
       "        7.74764597e-01, -4.87569213e-01, -5.83966136e-01, -2.32862949e-01,\n",
       "        9.17098969e-02, -2.53457218e-01,  9.76292193e-01,  3.21551710e-01,\n",
       "        9.08593774e-01, -3.70665714e-02, -5.39523125e-01,  7.88698852e-01,\n",
       "        1.29360445e-02,  2.60458541e+00, -2.35875160e-01, -3.28207254e-01,\n",
       "        5.67848563e-01, -3.60376775e-01, -7.86038339e-02, -2.74082541e-01,\n",
       "        8.96433368e-02, -1.32187843e-01, -4.10330772e-01, -4.95546103e-01,\n",
       "       -2.80608743e-01, -3.99633914e-01, -8.71265531e-02,  3.81118685e-01,\n",
       "        1.04618156e+00,  2.30050385e-01,  2.07945794e-01,  9.08736512e-02,\n",
       "       -3.71127129e-01, -5.30658305e-01, -1.61730036e-01,  2.86400020e-01,\n",
       "        1.02615401e-01, -1.20008099e+00,  3.86713505e-01,  2.34622508e-02,\n",
       "       -1.90230817e-01, -7.78709948e-01,  2.62795150e-01, -2.62231380e-01,\n",
       "       -7.08306134e-01, -2.95716822e-01, -3.60292733e-01, -1.99866802e-01,\n",
       "        7.08849549e-01, -1.17231555e-01, -2.35279836e-02, -2.94732153e-01,\n",
       "       -1.73129961e-01,  2.75560737e-01,  7.79351294e-02,  3.38323116e-02,\n",
       "        2.06093103e-01,  3.85022998e-01,  8.55169773e-01, -6.98952749e-02,\n",
       "       -5.00131547e-01, -6.95171356e-01, -4.24689829e-01, -4.77241017e-02,\n",
       "        8.18343237e-02, -4.96190459e-01, -3.65165830e-01,  1.00355841e-01,\n",
       "       -1.69845194e-01, -7.64484227e-01,  4.78905290e-01,  9.05194163e-01,\n",
       "       -2.85697170e-02, -8.00015405e-05, -8.97368565e-02,  3.36239696e-01,\n",
       "       -1.74819931e-01, -6.03129029e-01,  2.58101225e-02, -1.58818401e-02,\n",
       "       -1.55851051e-01,  4.61439788e-02,  1.47210151e-01, -3.95626903e-01,\n",
       "        2.01786369e-01, -1.04545243e-01,  1.06777608e+00, -1.73068464e-01,\n",
       "        3.23795974e-01,  3.55843693e-01, -1.41734615e-01, -2.39741914e-02,\n",
       "       -1.52559176e-01, -5.75620651e-01, -2.71826297e-01,  9.23752263e-02,\n",
       "       -4.72839892e-01, -7.50953704e-03, -5.43315746e-02, -1.48651332e-01,\n",
       "       -4.65847790e-01, -1.12853184e-01, -2.82780588e-01, -5.58252156e-01,\n",
       "       -2.65383810e-01,  6.05461299e-01, -4.02652770e-02,  5.93562603e-01,\n",
       "        9.94557083e-01, -5.51820323e-02, -4.95420814e-01,  6.49608731e-01,\n",
       "       -8.94963026e-01, -4.45015490e-01,  2.38591805e-01, -4.18657750e-01,\n",
       "       -6.18997216e-01, -3.23976874e-01,  2.08216831e-01, -3.70094717e-01,\n",
       "        3.96452174e-02,  1.88664556e-01,  2.77137935e-01,  3.64755005e-01,\n",
       "        1.11538064e+00, -1.13461845e-01, -5.20202398e-01, -1.25806779e-01,\n",
       "       -5.49705386e-01,  4.92133379e-01, -3.00219536e-01, -5.54267108e-01,\n",
       "       -1.43203333e-01,  5.71449637e-01,  2.50058383e-01,  7.44811371e-02,\n",
       "        1.12535596e-01,  2.71547705e-01,  1.79068632e-02,  1.58793941e-01,\n",
       "        4.95655537e-01,  3.08408976e-01, -1.79885551e-01,  3.08349371e-01,\n",
       "       -2.47335002e-01, -6.11926615e-01, -6.28155023e-02, -5.87174594e-01,\n",
       "        8.98289979e-02,  1.30087972e-01,  3.26568484e-01,  6.52271733e-02,\n",
       "        4.94283140e-01, -1.02069855e+00, -3.31855267e-01,  1.57649383e-01,\n",
       "       -3.01498175e-03,  1.88520491e-01,  4.93211932e-02, -7.82364532e-02,\n",
       "       -3.14973816e-02,  5.72356164e-01,  5.82560658e-01,  3.07963192e-01,\n",
       "       -5.13806567e-03,  3.12464893e-01, -5.04080176e-01, -8.20540339e-02,\n",
       "        1.88373160e-02,  2.68714696e-01,  4.70059887e-02, -2.00927526e-01,\n",
       "        6.66831881e-02, -6.54435158e-01, -4.00278345e-02, -9.14268494e-02,\n",
       "        5.03321104e-02, -2.48610884e-01, -5.92144907e-01, -5.19454658e-01,\n",
       "       -6.85348362e-03,  4.05035138e-01,  3.41844171e-01,  1.03158832e-01,\n",
       "       -1.62649959e-01, -7.85977095e-02, -7.74265677e-02,  8.52684677e-01,\n",
       "       -1.45597011e-01,  5.83767295e-01,  3.07956897e-03,  5.89198709e-01,\n",
       "        5.18331766e-01,  6.10922873e-01,  5.23958147e-01,  1.89244136e-01,\n",
       "        1.58829033e-01, -5.63160956e-01,  7.57173076e-02, -3.74981046e-01,\n",
       "       -9.99937207e-02, -9.28084135e-01,  7.56599486e-01, -4.12863463e-01,\n",
       "       -3.07511896e-01,  4.77375984e-01,  1.10623643e-01, -2.17597634e-01,\n",
       "        2.05847174e-02, -3.82735610e-01, -4.29739729e-02,  7.28353411e-02,\n",
       "       -2.22940639e-01,  7.25656629e-01, -2.32022367e-02, -1.58499822e-01,\n",
       "        7.20085204e-01,  2.75844485e-01,  2.18424261e-01, -6.95152879e-02,\n",
       "       -6.53979853e-02, -3.71728867e-01, -1.56153217e-01,  1.79311335e-01,\n",
       "        3.35586488e-01, -5.24903417e-01, -3.64292830e-01, -1.81610912e-01,\n",
       "       -3.57123286e-01, -3.02567780e-02, -2.54851907e-01, -1.40943512e-01,\n",
       "        8.65709782e-01,  3.40224624e-01,  2.40668625e-01,  1.40914202e-01,\n",
       "        4.73063104e-02,  1.29307508e-01,  3.43224287e-01,  1.45783931e-01,\n",
       "       -4.79145683e-02,  1.20496325e-01, -5.13402164e-01, -6.32077336e-01,\n",
       "       -1.21341181e+00, -5.22345424e-01,  1.49429202e+00, -6.15213662e-02,\n",
       "       -1.36738122e-02,  1.64529490e+00, -3.92984688e-01, -4.42268103e-01,\n",
       "        2.72733748e-01, -7.34976113e-01, -4.93394822e-01,  5.81524134e-01,\n",
       "       -5.23450784e-02,  1.83347054e-02, -2.62504667e-01, -5.71561277e-01,\n",
       "       -1.76474810e-01, -1.54248103e-02, -5.15229702e-01, -1.49576366e-01,\n",
       "        9.24564451e-02, -3.54977548e-01,  4.72822368e-01, -3.24950397e-01,\n",
       "       -4.01951224e-01, -1.05905280e-01,  6.12299562e-01, -8.26227814e-02,\n",
       "        4.23126906e-01, -2.51663364e-02,  3.10600877e-01, -1.06284827e-01,\n",
       "       -6.56973958e-01,  3.86539042e-01,  4.30246532e-01, -6.35087788e-02,\n",
       "       -3.57551873e-01,  3.85448694e-01, -3.68841082e-01, -2.31986791e-02,\n",
       "        1.63775742e-01, -3.01618993e-01,  4.62815642e-01, -2.98278742e-02,\n",
       "        3.33575532e-02,  5.16164184e-01, -1.07306920e-01, -1.63811013e-01,\n",
       "       -1.81882277e-01, -5.05439222e-01, -3.05661142e-01,  3.43421936e-01,\n",
       "       -2.69981861e-01,  4.88045141e-02, -3.50717723e-01, -5.73462434e-03,\n",
       "       -1.95933789e-01, -6.88767135e-02,  2.70586818e-01,  1.53315544e-01,\n",
       "        3.68317440e-02,  1.79260373e-01,  1.64394870e-01, -3.00439626e-01,\n",
       "       -4.45486933e-01, -5.27848184e-01,  4.01928395e-01,  1.02388740e-01,\n",
       "        1.19807139e-01,  8.78397465e-01, -2.24253103e-01, -2.68968880e-01,\n",
       "       -7.89698184e-01,  1.08637512e-01,  2.57769488e-02, -6.26363933e-01,\n",
       "       -3.68098915e-03,  3.68061066e-01, -6.06121957e-01, -1.12304360e-01,\n",
       "        1.98128015e-01, -2.69469738e-01, -6.85166478e-01,  1.98981941e-01,\n",
       "       -1.17791843e+00,  1.10479498e+00, -4.30958033e-01, -7.77386785e-01,\n",
       "       -4.76124734e-01,  5.62005401e-01, -3.16482008e-01, -3.59816968e-01,\n",
       "       -2.70499438e-01, -5.57639062e-01,  5.47430754e-01, -8.23557973e-01,\n",
       "        1.42554760e-01, -4.35882241e-01,  5.15923023e-01, -2.27988720e-01,\n",
       "        1.04221797e+00, -7.51041472e-02,  3.73649523e-02, -7.63598740e-01,\n",
       "       -1.59098715e-01,  4.15349603e-01, -2.56218374e-01,  4.13786232e-01,\n",
       "        5.19587696e-01, -1.34555191e-01,  2.02332407e-01, -4.85876173e-01,\n",
       "       -1.38170719e-01, -1.85428351e-01, -1.27528042e-01, -1.05951682e-01,\n",
       "       -2.71020263e-01, -4.24012780e-01,  2.33261898e-01,  3.25238913e-01,\n",
       "        9.18692350e-02, -1.32519960e-01,  1.42748371e-01, -6.26322806e-01,\n",
       "       -4.91139472e-01, -1.34994119e-01, -5.84373660e-02, -5.91330677e-02,\n",
       "       -1.82333604e-01,  1.75339639e-01,  4.00240272e-01,  5.58142126e-01,\n",
       "       -4.35398221e-01,  4.82161671e-01, -2.02091292e-01,  2.29344934e-01,\n",
       "       -3.40958536e-01,  7.00027764e-01, -1.94398955e-01, -7.13334441e-01,\n",
       "        9.81997848e-02,  4.81563449e-01, -3.61534715e-01, -3.57780904e-01,\n",
       "       -5.70390344e-01, -1.82664782e-01, -7.59346962e-01, -3.64618927e-01,\n",
       "       -5.69309071e-02, -7.82123089e-01,  1.64326131e-01,  4.46213007e-01,\n",
       "        1.24107748e-01, -2.74266601e-01,  1.62732735e-01, -2.61336535e-01,\n",
       "       -7.41638243e-04, -6.46269992e-02, -4.01423335e-01, -3.03809464e-01,\n",
       "       -4.50373232e-01,  5.42069197e-01, -1.17512435e-01, -2.84875333e-01,\n",
       "       -9.94508117e-02,  2.72791147e-01, -1.05301917e+00,  2.02818364e-01,\n",
       "        6.98479831e-01,  3.01212579e-01, -3.63224715e-01,  3.93989682e-01,\n",
       "        2.19635576e-01,  3.23393166e-01,  4.96707231e-01, -6.08990550e-01,\n",
       "       -3.49526703e-02,  1.07628264e-01, -8.26824665e-01,  2.11311474e-01,\n",
       "       -2.16288984e-01, -2.42275037e-02,  2.88985074e-01,  8.98940116e-02,\n",
       "       -2.56806314e-01,  4.18818861e-01, -1.23745859e-01, -7.16082573e-01,\n",
       "        2.94161528e-01,  4.54007536e-01,  8.49618554e-01, -2.23134309e-01],\n",
       "      dtype=float32)"
      ]
     },
     "execution_count": 17,
     "metadata": {},
     "output_type": "execute_result"
    }
   ],
   "source": [
    "# NaN인 데이터 제거하는 법 (해당 파일은 NaN값이 없기에 생략)\n",
    "#df = df.drop(columns=['Unnamed: 3']) \n",
    "#df.head()\n",
    "\n",
    "df.loc[0, '검사실명']\n",
    "model.encode(df.loc[0, '검사실명'])"
   ]
  },
  {
   "cell_type": "code",
   "execution_count": 18,
   "id": "f0b89749",
   "metadata": {},
   "outputs": [
    {
     "data": {
      "text/html": [
       "<div>\n",
       "<style scoped>\n",
       "    .dataframe tbody tr th:only-of-type {\n",
       "        vertical-align: middle;\n",
       "    }\n",
       "\n",
       "    .dataframe tbody tr th {\n",
       "        vertical-align: top;\n",
       "    }\n",
       "\n",
       "    .dataframe thead th {\n",
       "        text-align: right;\n",
       "    }\n",
       "</style>\n",
       "<table border=\"1\" class=\"dataframe\">\n",
       "  <thead>\n",
       "    <tr style=\"text-align: right;\">\n",
       "      <th></th>\n",
       "      <th>국사비</th>\n",
       "      <th>검사실명</th>\n",
       "      <th>검사종류</th>\n",
       "      <th>진료과순번</th>\n",
       "      <th>진료과명</th>\n",
       "      <th>접수월</th>\n",
       "      <th>횟수</th>\n",
       "      <th>embedding</th>\n",
       "    </tr>\n",
       "  </thead>\n",
       "  <tbody>\n",
       "    <tr>\n",
       "      <th>0</th>\n",
       "      <td>국비</td>\n",
       "      <td>CT검사</td>\n",
       "      <td>Abdomen &amp; Pelvis</td>\n",
       "      <td>1.0</td>\n",
       "      <td>내과</td>\n",
       "      <td>1월</td>\n",
       "      <td>5</td>\n",
       "      <td>[-0.23697314, -0.24719805, 0.20460722, -0.2554...</td>\n",
       "    </tr>\n",
       "    <tr>\n",
       "      <th>1</th>\n",
       "      <td>국비</td>\n",
       "      <td>골밀도</td>\n",
       "      <td>골밀도</td>\n",
       "      <td>1.0</td>\n",
       "      <td>내과</td>\n",
       "      <td>1월</td>\n",
       "      <td>2</td>\n",
       "      <td>[-0.8612221, -0.5278412, -0.114745535, -0.0884...</td>\n",
       "    </tr>\n",
       "    <tr>\n",
       "      <th>2</th>\n",
       "      <td>국비</td>\n",
       "      <td>일반검사</td>\n",
       "      <td>Abdomen</td>\n",
       "      <td>1.0</td>\n",
       "      <td>내과</td>\n",
       "      <td>1월</td>\n",
       "      <td>7</td>\n",
       "      <td>[-0.4110249, -0.32700312, 0.35365674, -0.86201...</td>\n",
       "    </tr>\n",
       "    <tr>\n",
       "      <th>3</th>\n",
       "      <td>국비</td>\n",
       "      <td>일반검사</td>\n",
       "      <td>Chest</td>\n",
       "      <td>1.0</td>\n",
       "      <td>내과</td>\n",
       "      <td>1월</td>\n",
       "      <td>56</td>\n",
       "      <td>[-0.4110249, -0.32700312, 0.35365674, -0.86201...</td>\n",
       "    </tr>\n",
       "    <tr>\n",
       "      <th>4</th>\n",
       "      <td>국비</td>\n",
       "      <td>초음파검사</td>\n",
       "      <td>Abdomen</td>\n",
       "      <td>1.0</td>\n",
       "      <td>내과</td>\n",
       "      <td>1월</td>\n",
       "      <td>5</td>\n",
       "      <td>[0.14258635, -0.41621903, -0.04359483, -0.1087...</td>\n",
       "    </tr>\n",
       "  </tbody>\n",
       "</table>\n",
       "</div>"
      ],
      "text/plain": [
       "  국사비   검사실명              검사종류  진료과순번 진료과명 접수월  횟수  \\\n",
       "0  국비   CT검사  Abdomen & Pelvis    1.0   내과  1월   5   \n",
       "1  국비    골밀도               골밀도    1.0   내과  1월   2   \n",
       "2  국비   일반검사           Abdomen    1.0   내과  1월   7   \n",
       "3  국비   일반검사             Chest    1.0   내과  1월  56   \n",
       "4  국비  초음파검사           Abdomen    1.0   내과  1월   5   \n",
       "\n",
       "                                           embedding  \n",
       "0  [-0.23697314, -0.24719805, 0.20460722, -0.2554...  \n",
       "1  [-0.8612221, -0.5278412, -0.114745535, -0.0884...  \n",
       "2  [-0.4110249, -0.32700312, 0.35365674, -0.86201...  \n",
       "3  [-0.4110249, -0.32700312, 0.35365674, -0.86201...  \n",
       "4  [0.14258635, -0.41621903, -0.04359483, -0.1087...  "
      ]
     },
     "execution_count": 18,
     "metadata": {},
     "output_type": "execute_result"
    }
   ],
   "source": [
    "df['embedding'] = pd.Series([[]] * len(df))\n",
    "df['embedding'] = df['검사실명'].map(lambda x: list(model.encode(x)))\n",
    "\n",
    "df.head()"
   ]
  },
  {
   "cell_type": "code",
   "execution_count": 19,
   "id": "13815b17",
   "metadata": {},
   "outputs": [],
   "source": [
    "df.to_csv('./한국보훈복지의료공단_영상의학과 진료과별 검사건수_인천보훈병원_20241231_with_embedding.csv', index=False, encoding='cp949')"
   ]
  },
  {
   "cell_type": "code",
   "execution_count": 22,
   "id": "9f7a9168",
   "metadata": {},
   "outputs": [],
   "source": [
    "text = 'CT검사는 여태까지 얼마나 받았나요?'\n",
    "\n",
    "embedding = model.encode(text)"
   ]
  },
  {
   "cell_type": "code",
   "execution_count": 23,
   "id": "54ab0012",
   "metadata": {},
   "outputs": [
    {
     "data": {
      "text/html": [
       "<div>\n",
       "<style scoped>\n",
       "    .dataframe tbody tr th:only-of-type {\n",
       "        vertical-align: middle;\n",
       "    }\n",
       "\n",
       "    .dataframe tbody tr th {\n",
       "        vertical-align: top;\n",
       "    }\n",
       "\n",
       "    .dataframe thead th {\n",
       "        text-align: right;\n",
       "    }\n",
       "</style>\n",
       "<table border=\"1\" class=\"dataframe\">\n",
       "  <thead>\n",
       "    <tr style=\"text-align: right;\">\n",
       "      <th></th>\n",
       "      <th>국사비</th>\n",
       "      <th>검사실명</th>\n",
       "      <th>검사종류</th>\n",
       "      <th>진료과순번</th>\n",
       "      <th>진료과명</th>\n",
       "      <th>접수월</th>\n",
       "      <th>횟수</th>\n",
       "      <th>embedding</th>\n",
       "      <th>distance</th>\n",
       "    </tr>\n",
       "  </thead>\n",
       "  <tbody>\n",
       "    <tr>\n",
       "      <th>0</th>\n",
       "      <td>국비</td>\n",
       "      <td>CT검사</td>\n",
       "      <td>Abdomen &amp; Pelvis</td>\n",
       "      <td>1.0</td>\n",
       "      <td>내과</td>\n",
       "      <td>1월</td>\n",
       "      <td>5</td>\n",
       "      <td>[-0.23697314, -0.24719805, 0.20460722, -0.2554...</td>\n",
       "      <td>0.653996</td>\n",
       "    </tr>\n",
       "    <tr>\n",
       "      <th>1</th>\n",
       "      <td>국비</td>\n",
       "      <td>골밀도</td>\n",
       "      <td>골밀도</td>\n",
       "      <td>1.0</td>\n",
       "      <td>내과</td>\n",
       "      <td>1월</td>\n",
       "      <td>2</td>\n",
       "      <td>[-0.8612221, -0.5278412, -0.114745535, -0.0884...</td>\n",
       "      <td>0.225756</td>\n",
       "    </tr>\n",
       "    <tr>\n",
       "      <th>2</th>\n",
       "      <td>국비</td>\n",
       "      <td>일반검사</td>\n",
       "      <td>Abdomen</td>\n",
       "      <td>1.0</td>\n",
       "      <td>내과</td>\n",
       "      <td>1월</td>\n",
       "      <td>7</td>\n",
       "      <td>[-0.4110249, -0.32700312, 0.35365674, -0.86201...</td>\n",
       "      <td>0.430314</td>\n",
       "    </tr>\n",
       "    <tr>\n",
       "      <th>3</th>\n",
       "      <td>국비</td>\n",
       "      <td>일반검사</td>\n",
       "      <td>Chest</td>\n",
       "      <td>1.0</td>\n",
       "      <td>내과</td>\n",
       "      <td>1월</td>\n",
       "      <td>56</td>\n",
       "      <td>[-0.4110249, -0.32700312, 0.35365674, -0.86201...</td>\n",
       "      <td>0.430314</td>\n",
       "    </tr>\n",
       "    <tr>\n",
       "      <th>4</th>\n",
       "      <td>국비</td>\n",
       "      <td>초음파검사</td>\n",
       "      <td>Abdomen</td>\n",
       "      <td>1.0</td>\n",
       "      <td>내과</td>\n",
       "      <td>1월</td>\n",
       "      <td>5</td>\n",
       "      <td>[0.14258635, -0.41621903, -0.04359483, -0.1087...</td>\n",
       "      <td>0.409383</td>\n",
       "    </tr>\n",
       "  </tbody>\n",
       "</table>\n",
       "</div>"
      ],
      "text/plain": [
       "  국사비   검사실명              검사종류  진료과순번 진료과명 접수월  횟수  \\\n",
       "0  국비   CT검사  Abdomen & Pelvis    1.0   내과  1월   5   \n",
       "1  국비    골밀도               골밀도    1.0   내과  1월   2   \n",
       "2  국비   일반검사           Abdomen    1.0   내과  1월   7   \n",
       "3  국비   일반검사             Chest    1.0   내과  1월  56   \n",
       "4  국비  초음파검사           Abdomen    1.0   내과  1월   5   \n",
       "\n",
       "                                           embedding  distance  \n",
       "0  [-0.23697314, -0.24719805, 0.20460722, -0.2554...  0.653996  \n",
       "1  [-0.8612221, -0.5278412, -0.114745535, -0.0884...  0.225756  \n",
       "2  [-0.4110249, -0.32700312, 0.35365674, -0.86201...  0.430314  \n",
       "3  [-0.4110249, -0.32700312, 0.35365674, -0.86201...  0.430314  \n",
       "4  [0.14258635, -0.41621903, -0.04359483, -0.1087...  0.409383  "
      ]
     },
     "execution_count": 23,
     "metadata": {},
     "output_type": "execute_result"
    }
   ],
   "source": [
    "df['distance'] = df['embedding'].map(lambda x: cosine_similarity([embedding], [x]).squeeze())\n",
    "df.head()"
   ]
  }
 ],
 "metadata": {
  "kernelspec": {
   "display_name": "base",
   "language": "python",
   "name": "python3"
  },
  "language_info": {
   "codemirror_mode": {
    "name": "ipython",
    "version": 3
   },
   "file_extension": ".py",
   "mimetype": "text/x-python",
   "name": "python",
   "nbconvert_exporter": "python",
   "pygments_lexer": "ipython3",
   "version": "3.12.7"
  }
 },
 "nbformat": 4,
 "nbformat_minor": 5
}
